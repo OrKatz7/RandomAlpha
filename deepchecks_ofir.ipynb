{
 "cells": [
  {
   "cell_type": "code",
   "execution_count": 20,
   "id": "1108cc6e-843f-45d0-97c5-c500804644e2",
   "metadata": {},
   "outputs": [],
   "source": [
    "import warnings\n",
    "warnings.filterwarnings('ignore')\n",
    "from deepchecks.tabular.suites import full_suite\n",
    "from skopt.plots import plot_objective, plot_evaluations, plot_convergence, plot_regret\n",
    "from configs import music,santander_customer_satisfaction,Wids2021,ionosphere,fetal_health,santander,California,playground,Wine,Medicalpremium,Avocado\n",
    "import pickle\n",
    "from skopt import dump, load\n",
    "from matplotlib import pyplot as plt\n",
    "import glob\n",
    "import pandas as pd\n",
    "suite = full_suite()\n",
    "def is_float(element) -> bool:\n",
    "    try:\n",
    "        float(element)\n",
    "        return True\n",
    "    except ValueError:\n",
    "        return False\n",
    "import seaborn as sns\n",
    "sns.set()"
   ]
  },
  {
   "cell_type": "code",
   "execution_count": 28,
   "id": "940eba8d-a3a3-44bd-b8df-d631d8728814",
   "metadata": {},
   "outputs": [
    {
     "data": {
      "text/plain": [
       "'outputs/Wids.pkl'"
      ]
     },
     "execution_count": 28,
     "metadata": {},
     "output_type": "execute_result"
    }
   ],
   "source": [
    "idx = 3\n",
    "configs[idx]"
   ]
  },
  {
   "cell_type": "code",
   "execution_count": 29,
   "id": "4527b6cb-88a0-43f4-ba5d-9ef9d0997e39",
   "metadata": {},
   "outputs": [],
   "source": [
    "configs = glob.glob('outputs/*.pkl')\n",
    "with open(configs[idx], 'rb') as inp:\n",
    "    config2 = pickle.load(inp)"
   ]
  },
  {
   "cell_type": "code",
   "execution_count": 30,
   "id": "e6c6bf48-fd92-4c30-8a9a-1d402781fb95",
   "metadata": {},
   "outputs": [
    {
     "data": {
      "application/vnd.jupyter.widget-view+json": {
       "model_id": "",
       "version_major": 2,
       "version_minor": 0
      },
      "text/plain": [
       "Full Suite:   0%|          | 0/35 [00:00<?, ? Check/s]"
      ]
     },
     "metadata": {},
     "output_type": "display_data"
    },
    {
     "data": {
      "application/vnd.jupyter.widget-view+json": {
       "model_id": "6ba0e9ae0e69432c9c8ff6b5327aff89",
       "version_major": 2,
       "version_minor": 0
      },
      "text/plain": [
       "VBox(children=(HTML(value='\\n        <h1 id=\"summary_F7PD8\">Full Suite</h1>\\n        <p>\\n            The suit…"
      ]
     },
     "metadata": {},
     "output_type": "display_data"
    }
   ],
   "source": [
    "suite.run(train_dataset=config2['history'][0]['ds_train'], test_dataset=config2['history'][0]['ds_test'], model=config2['history'][0]['model'])"
   ]
  },
  {
   "cell_type": "code",
   "execution_count": null,
   "id": "b47fd276-7b93-406b-8478-4b02a05b92fc",
   "metadata": {},
   "outputs": [],
   "source": []
  }
 ],
 "metadata": {
  "kernelspec": {
   "display_name": "eeg",
   "language": "python",
   "name": "eeg"
  },
  "language_info": {
   "codemirror_mode": {
    "name": "ipython",
    "version": 3
   },
   "file_extension": ".py",
   "mimetype": "text/x-python",
   "name": "python",
   "nbconvert_exporter": "python",
   "pygments_lexer": "ipython3",
   "version": "3.9.1"
  }
 },
 "nbformat": 4,
 "nbformat_minor": 5
}
