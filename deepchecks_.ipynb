{
 "cells": [
  {
   "cell_type": "code",
   "execution_count": 1,
   "id": "1108cc6e-843f-45d0-97c5-c500804644e2",
   "metadata": {},
   "outputs": [],
   "source": [
    "import warnings\n",
    "warnings.filterwarnings('ignore')\n",
    "import sys\n",
    "from deepchecks.tabular.suites import full_suite\n",
    "import pickle\n",
    "from matplotlib import pyplot as plt\n",
    "import glob\n",
    "import sys\n",
    "sys.path.append(\"Q3\")\n",
    "import models_3\n",
    "suite = full_suite()"
   ]
  },
  {
   "cell_type": "code",
   "execution_count": 2,
   "id": "940eba8d-a3a3-44bd-b8df-d631d8728814",
   "metadata": {},
   "outputs": [
    {
     "data": {
      "text/plain": [
       "['./outputs3/music.pkl',\n",
       " './outputs3/ionosphere.pkl',\n",
       " './outputs3/santander_customer_satisfaction.pkl',\n",
       " './outputs3/Wids.pkl',\n",
       " './outputs3/fetal_health.pkl',\n",
       " './outputs3/santander.pkl',\n",
       " './outputs3/California.pkl',\n",
       " './outputs3/playground.pkl',\n",
       " './outputs3/Wine.pkl',\n",
       " './outputs3/Medical premium.pkl',\n",
       " './outputs3/Avocado.pkl']"
      ]
     },
     "execution_count": 2,
     "metadata": {},
     "output_type": "execute_result"
    }
   ],
   "source": [
    "configs = glob.glob('./outputs3/*.pkl')\n",
    "configs"
   ]
  },
  {
   "cell_type": "code",
   "execution_count": 3,
   "id": "4527b6cb-88a0-43f4-ba5d-9ef9d0997e39",
   "metadata": {},
   "outputs": [],
   "source": [
    "with open(configs[1], 'rb') as inp:\n",
    "    config2 = pickle.load(inp)"
   ]
  },
  {
   "cell_type": "code",
   "execution_count": 4,
   "id": "e6c6bf48-fd92-4c30-8a9a-1d402781fb95",
   "metadata": {},
   "outputs": [
    {
     "data": {
      "application/vnd.jupyter.widget-view+json": {
       "model_id": "",
       "version_major": 2,
       "version_minor": 0
      },
      "text/plain": [
       "Full Suite:   0%|          | 0/35 [00:00<?, ? Check/s]"
      ]
     },
     "metadata": {},
     "output_type": "display_data"
    },
    {
     "data": {
      "application/vnd.jupyter.widget-view+json": {
       "model_id": "ff892bf12f61480fbf12e93e8e3f706b",
       "version_major": 2,
       "version_minor": 0
      },
      "text/plain": [
       "VBox(children=(HTML(value='\\n        <h1 id=\"summary_P5UYO\">Full Suite</h1>\\n        <p>\\n            The suit…"
      ]
     },
     "metadata": {},
     "output_type": "display_data"
    }
   ],
   "source": [
    "suite.run(train_dataset=config2['history'][0]['ds_train'], test_dataset=config2['history'][0]['ds_test'], model=config2['history'][0]['model'])"
   ]
  },
  {
   "cell_type": "code",
   "execution_count": null,
   "id": "b47fd276-7b93-406b-8478-4b02a05b92fc",
   "metadata": {},
   "outputs": [],
   "source": []
  }
 ],
 "metadata": {
  "kernelspec": {
   "display_name": "eeg",
   "language": "python",
   "name": "eeg"
  },
  "language_info": {
   "codemirror_mode": {
    "name": "ipython",
    "version": 3
   },
   "file_extension": ".py",
   "mimetype": "text/x-python",
   "name": "python",
   "nbconvert_exporter": "python",
   "pygments_lexer": "ipython3",
   "version": "3.9.1"
  }
 },
 "nbformat": 4,
 "nbformat_minor": 5
}
