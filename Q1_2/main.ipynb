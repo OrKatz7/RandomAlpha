{
 "cells": [
  {
   "cell_type": "code",
   "execution_count": 1,
   "id": "3a790fff-06b0-4a15-a05f-416493e77e53",
   "metadata": {
    "tags": []
   },
   "outputs": [],
   "source": [
    "# !pip install deepchecks -U --user\n",
    "# !pip install dabl\n",
    "# !pip install 'scikit-optimize[plots]'\n",
    "import warnings\n",
    "warnings.filterwarnings('ignore')\n",
    "from deepchecks.tabular.suites import full_suite\n",
    "from deepchecks.tabular import Dataset\n",
    "from skopt.plots import plot_objective, plot_evaluations, plot_convergence, plot_regret\n",
    "from utils import run_config\n",
    "from configs import music,santander_customer_satisfaction,Wids2021,ionosphere,fetal_health,santander,California,playground,Wine,Medicalpremium,Avocado\n",
    "import pickle\n",
    "from skopt import gp_minimize, forest_minimize\n",
    "from skopt.utils import use_named_args\n",
    "from skopt.plots import plot_objective, plot_evaluations, plot_convergence, plot_regret\n",
    "from skopt.space import Categorical, Integer, Real\n",
    "import utils\n",
    "from matplotlib import pyplot as plt\n",
    "suite = full_suite()"
   ]
  },
  {
   "cell_type": "code",
   "execution_count": 2,
   "id": "4102cad4-9f00-4452-854a-65145e88910f",
   "metadata": {},
   "outputs": [],
   "source": [
    "# config_Regressor = [California,playground,Wine,Medicalpremium,Avocado]\n",
    "# config_Classifier = [fetal_health,ionosphere,santander_customer_satisfaction,music]\n",
    "save_dir = '../outputs'\n",
    "config_train = [ionosphere,music,santander_customer_satisfaction,Wids2021,fetal_health,santander,California,playground,Wine,Medicalpremium,Avocado]\n",
    "\n",
    "for config in config_train:\n",
    "    try:\n",
    "        results = {}\n",
    "        history,cv_auc,cv_acc,run_time,df = run_config(config)\n",
    "        for fold in config.trn_folds:\n",
    "            ax = plot_objective(history[fold]['opt_result'],size=6)\n",
    "            plt.savefig(f\"{save_dir}/{config.d_name}_{fold}.png\")\n",
    "            history[fold]['opt_result'] = None\n",
    "        results['history'] = history\n",
    "        results['cv_auc'] = cv_auc\n",
    "        results['cv_acc'] = cv_acc\n",
    "        results['run_time']  = run_time\n",
    "        with open(f'{save_dir}/{config.d_name}.pkl', 'wb') as outp:\n",
    "            pickle.dump(results, outp, pickle.HIGHEST_PROTOCOL)\n",
    "    except Exception as e:\n",
    "        print(config)\n",
    "        print(e)\n",
    "        print(\"*\"*20)"
   ]
  }
 ],
 "metadata": {
  "kernelspec": {
   "display_name": "eeg",
   "language": "python",
   "name": "eeg"
  },
  "language_info": {
   "codemirror_mode": {
    "name": "ipython",
    "version": 3
   },
   "file_extension": ".py",
   "mimetype": "text/x-python",
   "name": "python",
   "nbconvert_exporter": "python",
   "pygments_lexer": "ipython3",
   "version": "3.9.1"
  }
 },
 "nbformat": 4,
 "nbformat_minor": 5
}
